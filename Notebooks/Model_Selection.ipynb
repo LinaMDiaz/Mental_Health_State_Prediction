{
 "cells": [
  {
   "cell_type": "code",
   "execution_count": null,
   "id": "fd0c7ed9",
   "metadata": {},
   "outputs": [],
   "source": [
    "import pandas as pd"
   ]
  },
  {
   "cell_type": "code",
   "execution_count": null,
   "id": "f90c9746",
   "metadata": {},
   "outputs": [],
   "source": []
  }
 ],
 "metadata": {
  "kernelspec": {
   "display_name": "mental_health_state_classification_project",
   "language": "python",
   "name": "python3"
  },
  "language_info": {
   "name": "python",
   "version": "3.13.3"
  }
 },
 "nbformat": 4,
 "nbformat_minor": 5
}
