{
 "cells": [
  {
   "cell_type": "markdown",
   "id": "e0b7d5e4",
   "metadata": {},
   "source": [
    "# Import Librairies"
   ]
  },
  {
   "cell_type": "code",
   "execution_count": 1,
   "id": "af7e2243",
   "metadata": {},
   "outputs": [],
   "source": [
    "# Import only the librairies to be used\n",
    "import pandas as pd\n",
    "from sklearn.model_selection import train_test_split\n",
    "#import the remaining librairies to be used"
   ]
  },
  {
   "cell_type": "markdown",
   "id": "7e725e03",
   "metadata": {},
   "source": [
    "# Import the Data file"
   ]
  },
  {
   "cell_type": "code",
   "execution_count": 2,
   "id": "18539e5c",
   "metadata": {},
   "outputs": [
    {
     "data": {
      "text/html": [
       "<div>\n",
       "<style scoped>\n",
       "    .dataframe tbody tr th:only-of-type {\n",
       "        vertical-align: middle;\n",
       "    }\n",
       "\n",
       "    .dataframe tbody tr th {\n",
       "        vertical-align: top;\n",
       "    }\n",
       "\n",
       "    .dataframe thead th {\n",
       "        text-align: right;\n",
       "    }\n",
       "</style>\n",
       "<table border=\"1\" class=\"dataframe\">\n",
       "  <thead>\n",
       "    <tr style=\"text-align: right;\">\n",
       "      <th></th>\n",
       "      <th>Program Category</th>\n",
       "      <th>Region Served</th>\n",
       "      <th>Age Group</th>\n",
       "      <th>Sex</th>\n",
       "      <th>Religious Preference</th>\n",
       "      <th>Veteran Status</th>\n",
       "      <th>Cultural Group</th>\n",
       "      <th>Serious Mental Illness</th>\n",
       "      <th>Smokes</th>\n",
       "      <th>Diagnosis</th>\n",
       "      <th>...</th>\n",
       "      <th>Household Composition</th>\n",
       "      <th>Employment Status</th>\n",
       "      <th>Mental Illness</th>\n",
       "      <th>Cash Assistance Situation</th>\n",
       "      <th>Education Group</th>\n",
       "      <th>Unknown Insurance Coverage</th>\n",
       "      <th>Insured_or_Not</th>\n",
       "      <th>Has_Public_Insurance</th>\n",
       "      <th>Has_Private_or_Other_Insurance</th>\n",
       "      <th>Confirmed_Medicaid_Managed</th>\n",
       "    </tr>\n",
       "  </thead>\n",
       "  <tbody>\n",
       "    <tr>\n",
       "      <th>0</th>\n",
       "      <td>OUTPATIENT</td>\n",
       "      <td>DOWNSTATE</td>\n",
       "      <td>ADULT</td>\n",
       "      <td>MALE</td>\n",
       "      <td>UNKNOWN</td>\n",
       "      <td>NON-VETERAN/UNKNOWN</td>\n",
       "      <td>Hispanic</td>\n",
       "      <td>YES</td>\n",
       "      <td>NO</td>\n",
       "      <td>MENTAL ILLNESS</td>\n",
       "      <td>...</td>\n",
       "      <td>COHABITANTS</td>\n",
       "      <td>EMPLOYED</td>\n",
       "      <td>YES</td>\n",
       "      <td>No/Unknown</td>\n",
       "      <td>Educated</td>\n",
       "      <td>False</td>\n",
       "      <td>Yes</td>\n",
       "      <td>Yes</td>\n",
       "      <td>No</td>\n",
       "      <td>Yes</td>\n",
       "    </tr>\n",
       "    <tr>\n",
       "      <th>1</th>\n",
       "      <td>OUTPATIENT</td>\n",
       "      <td>NEW YORK CITY</td>\n",
       "      <td>ADULT</td>\n",
       "      <td>MALE</td>\n",
       "      <td>RELIGIOUS</td>\n",
       "      <td>NON-VETERAN/UNKNOWN</td>\n",
       "      <td>Majority US</td>\n",
       "      <td>YES</td>\n",
       "      <td>NO</td>\n",
       "      <td>MENTAL ILLNESS</td>\n",
       "      <td>...</td>\n",
       "      <td>LIVES ALONE</td>\n",
       "      <td>EMPLOYED</td>\n",
       "      <td>YES</td>\n",
       "      <td>No/Unknown</td>\n",
       "      <td>Educated</td>\n",
       "      <td>False</td>\n",
       "      <td>Yes</td>\n",
       "      <td>Yes</td>\n",
       "      <td>No</td>\n",
       "      <td>Yes</td>\n",
       "    </tr>\n",
       "    <tr>\n",
       "      <th>2</th>\n",
       "      <td>OUTPATIENT</td>\n",
       "      <td>DOWNSTATE</td>\n",
       "      <td>ADULT</td>\n",
       "      <td>MALE</td>\n",
       "      <td>RELIGIOUS</td>\n",
       "      <td>NON-VETERAN/UNKNOWN</td>\n",
       "      <td>Majority US</td>\n",
       "      <td>YES</td>\n",
       "      <td>YES</td>\n",
       "      <td>NOT MI/DEVELOPMENT/ORGANIC/SUBSTANCEADDICTIVE/...</td>\n",
       "      <td>...</td>\n",
       "      <td>COHABITANTS</td>\n",
       "      <td>EMPLOYED</td>\n",
       "      <td>YES</td>\n",
       "      <td>No/Unknown</td>\n",
       "      <td>Educated</td>\n",
       "      <td>False</td>\n",
       "      <td>Yes</td>\n",
       "      <td>Yes</td>\n",
       "      <td>No</td>\n",
       "      <td>Yes</td>\n",
       "    </tr>\n",
       "    <tr>\n",
       "      <th>3</th>\n",
       "      <td>COMMUNITY/SUPPORTIVE</td>\n",
       "      <td>NEW YORK CITY</td>\n",
       "      <td>ADULT</td>\n",
       "      <td>MALE</td>\n",
       "      <td>UNKNOWN</td>\n",
       "      <td>NON-VETERAN/UNKNOWN</td>\n",
       "      <td>Unknown</td>\n",
       "      <td>YES</td>\n",
       "      <td>YES</td>\n",
       "      <td>NOT MI/DEVELOPMENT/ORGANIC/SUBSTANCEADDICTIVE/...</td>\n",
       "      <td>...</td>\n",
       "      <td>NOT APPLICABLE/UNKOWN</td>\n",
       "      <td>EMPLOYED</td>\n",
       "      <td>YES</td>\n",
       "      <td>Receiving Cash Assistance</td>\n",
       "      <td>Educated</td>\n",
       "      <td>False</td>\n",
       "      <td>Yes</td>\n",
       "      <td>Yes</td>\n",
       "      <td>No</td>\n",
       "      <td>No</td>\n",
       "    </tr>\n",
       "    <tr>\n",
       "      <th>4</th>\n",
       "      <td>OUTPATIENT</td>\n",
       "      <td>UPSTATE</td>\n",
       "      <td>ADULT</td>\n",
       "      <td>FEMALE</td>\n",
       "      <td>SPIRITUAL/NON-RELIGIOUS</td>\n",
       "      <td>NON-VETERAN/UNKNOWN</td>\n",
       "      <td>Majority US</td>\n",
       "      <td>YES</td>\n",
       "      <td>YES</td>\n",
       "      <td>MENTAL ILLNESS</td>\n",
       "      <td>...</td>\n",
       "      <td>COHABITANTS</td>\n",
       "      <td>EMPLOYED</td>\n",
       "      <td>YES</td>\n",
       "      <td>Receiving Cash Assistance</td>\n",
       "      <td>Educated</td>\n",
       "      <td>False</td>\n",
       "      <td>Yes</td>\n",
       "      <td>Yes</td>\n",
       "      <td>No</td>\n",
       "      <td>Yes</td>\n",
       "    </tr>\n",
       "  </tbody>\n",
       "</table>\n",
       "<p>5 rows × 31 columns</p>\n",
       "</div>"
      ],
      "text/plain": [
       "       Program Category  Region Served Age Group     Sex  \\\n",
       "0            OUTPATIENT      DOWNSTATE     ADULT    MALE   \n",
       "1            OUTPATIENT  NEW YORK CITY     ADULT    MALE   \n",
       "2            OUTPATIENT      DOWNSTATE     ADULT    MALE   \n",
       "3  COMMUNITY/SUPPORTIVE  NEW YORK CITY     ADULT    MALE   \n",
       "4            OUTPATIENT        UPSTATE     ADULT  FEMALE   \n",
       "\n",
       "      Religious Preference       Veteran Status Cultural Group  \\\n",
       "0                  UNKNOWN  NON-VETERAN/UNKNOWN       Hispanic   \n",
       "1                RELIGIOUS  NON-VETERAN/UNKNOWN    Majority US   \n",
       "2                RELIGIOUS  NON-VETERAN/UNKNOWN    Majority US   \n",
       "3                  UNKNOWN  NON-VETERAN/UNKNOWN        Unknown   \n",
       "4  SPIRITUAL/NON-RELIGIOUS  NON-VETERAN/UNKNOWN    Majority US   \n",
       "\n",
       "  Serious Mental Illness Smokes  \\\n",
       "0                    YES     NO   \n",
       "1                    YES     NO   \n",
       "2                    YES    YES   \n",
       "3                    YES    YES   \n",
       "4                    YES    YES   \n",
       "\n",
       "                                           Diagnosis  ...  \\\n",
       "0                                     MENTAL ILLNESS  ...   \n",
       "1                                     MENTAL ILLNESS  ...   \n",
       "2  NOT MI/DEVELOPMENT/ORGANIC/SUBSTANCEADDICTIVE/...  ...   \n",
       "3  NOT MI/DEVELOPMENT/ORGANIC/SUBSTANCEADDICTIVE/...  ...   \n",
       "4                                     MENTAL ILLNESS  ...   \n",
       "\n",
       "   Household Composition Employment Status Mental Illness  \\\n",
       "0            COHABITANTS          EMPLOYED            YES   \n",
       "1            LIVES ALONE          EMPLOYED            YES   \n",
       "2            COHABITANTS          EMPLOYED            YES   \n",
       "3  NOT APPLICABLE/UNKOWN          EMPLOYED            YES   \n",
       "4            COHABITANTS          EMPLOYED            YES   \n",
       "\n",
       "   Cash Assistance Situation Education Group Unknown Insurance Coverage  \\\n",
       "0                 No/Unknown        Educated                      False   \n",
       "1                 No/Unknown        Educated                      False   \n",
       "2                 No/Unknown        Educated                      False   \n",
       "3  Receiving Cash Assistance        Educated                      False   \n",
       "4  Receiving Cash Assistance        Educated                      False   \n",
       "\n",
       "  Insured_or_Not Has_Public_Insurance Has_Private_or_Other_Insurance  \\\n",
       "0            Yes                  Yes                             No   \n",
       "1            Yes                  Yes                             No   \n",
       "2            Yes                  Yes                             No   \n",
       "3            Yes                  Yes                             No   \n",
       "4            Yes                  Yes                             No   \n",
       "\n",
       "  Confirmed_Medicaid_Managed  \n",
       "0                        Yes  \n",
       "1                        Yes  \n",
       "2                        Yes  \n",
       "3                         No  \n",
       "4                        Yes  \n",
       "\n",
       "[5 rows x 31 columns]"
      ]
     },
     "metadata": {},
     "output_type": "display_data"
    }
   ],
   "source": [
    "# Import the data file\n",
    "dataset_path = \"../../Data/final_dataset_for_model_training/final_dataset.csv\"\n",
    "\n",
    "\n",
    "# final dataset\n",
    "data = pd.read_csv(dataset_path)\n",
    "\n",
    "\n",
    "\n",
    "unnamed = [\"Unnamed: 0\", \"Mental Illness.1\"]\n",
    "data.drop(columns = unnamed, inplace= True)\n",
    "    \n",
    "\n",
    "# show the dataframe\n",
    "display(data.head())"
   ]
  },
  {
   "cell_type": "code",
   "execution_count": 3,
   "id": "d1c85520",
   "metadata": {},
   "outputs": [
    {
     "data": {
      "text/plain": [
       "Index(['Program Category', 'Region Served', 'Age Group', 'Sex',\n",
       "       'Religious Preference', 'Veteran Status', 'Cultural Group',\n",
       "       'Serious Mental Illness', 'Smokes', 'Diagnosis', 'Disorder Group',\n",
       "       'Mental disability', 'Impairment Group', 'Chronical diseases',\n",
       "       'Users Canabis', 'Smoking treatment', 'Service_drug_alcohol_opiod',\n",
       "       'Other_testchronic_group', 'Heartchronic', 'Brainchronic',\n",
       "       'Otherchron_group', 'Household Composition', 'Employment Status',\n",
       "       'Mental Illness', 'Cash Assistance Situation', 'Education Group',\n",
       "       'Unknown Insurance Coverage', 'Insured_or_Not', 'Has_Public_Insurance',\n",
       "       'Has_Private_or_Other_Insurance', 'Confirmed_Medicaid_Managed'],\n",
       "      dtype='object')"
      ]
     },
     "execution_count": 3,
     "metadata": {},
     "output_type": "execute_result"
    }
   ],
   "source": [
    "data.columns"
   ]
  },
  {
   "cell_type": "code",
   "execution_count": 4,
   "id": "e0a9aa07",
   "metadata": {},
   "outputs": [
    {
     "data": {
      "text/plain": [
       "Index(['Program Category', 'Region Served', 'Age Group', 'Sex',\n",
       "       'Religious Preference', 'Veteran Status', 'Cultural Group', 'Smokes',\n",
       "       'Diagnosis', 'Disorder Group', 'Mental disability', 'Impairment Group',\n",
       "       'Chronical diseases', 'Users Canabis', 'Smoking treatment',\n",
       "       'Service_drug_alcohol_opiod', 'Other_testchronic_group', 'Heartchronic',\n",
       "       'Brainchronic', 'Otherchron_group', 'Household Composition',\n",
       "       'Employment Status', 'Mental Illness', 'Cash Assistance Situation',\n",
       "       'Education Group', 'Unknown Insurance Coverage', 'Insured_or_Not',\n",
       "       'Has_Public_Insurance', 'Has_Private_or_Other_Insurance',\n",
       "       'Confirmed_Medicaid_Managed'],\n",
       "      dtype='object')"
      ]
     },
     "execution_count": 4,
     "metadata": {},
     "output_type": "execute_result"
    }
   ],
   "source": [
    "data_b = data.copy()\n",
    "\n",
    "col = \"Serious Mental Illness\"\n",
    "\n",
    "data_b.drop(columns=col, inplace=True)\n",
    "\n",
    "data_b.columns"
   ]
  },
  {
   "cell_type": "code",
   "execution_count": 5,
   "id": "e321c2ef",
   "metadata": {},
   "outputs": [
    {
     "data": {
      "text/html": [
       "<div>\n",
       "<style scoped>\n",
       "    .dataframe tbody tr th:only-of-type {\n",
       "        vertical-align: middle;\n",
       "    }\n",
       "\n",
       "    .dataframe tbody tr th {\n",
       "        vertical-align: top;\n",
       "    }\n",
       "\n",
       "    .dataframe thead th {\n",
       "        text-align: right;\n",
       "    }\n",
       "</style>\n",
       "<table border=\"1\" class=\"dataframe\">\n",
       "  <thead>\n",
       "    <tr style=\"text-align: right;\">\n",
       "      <th></th>\n",
       "      <th>Program Category</th>\n",
       "      <th>Region Served</th>\n",
       "      <th>Age Group</th>\n",
       "      <th>Sex</th>\n",
       "      <th>Religious Preference</th>\n",
       "      <th>Veteran Status</th>\n",
       "      <th>Cultural Group</th>\n",
       "      <th>Smokes</th>\n",
       "      <th>Diagnosis</th>\n",
       "      <th>Disorder Group</th>\n",
       "      <th>...</th>\n",
       "      <th>Household Composition</th>\n",
       "      <th>Employment Status</th>\n",
       "      <th>Mental Illness</th>\n",
       "      <th>Cash Assistance Situation</th>\n",
       "      <th>Education Group</th>\n",
       "      <th>Unknown Insurance Coverage</th>\n",
       "      <th>Insured_or_Not</th>\n",
       "      <th>Has_Public_Insurance</th>\n",
       "      <th>Has_Private_or_Other_Insurance</th>\n",
       "      <th>Confirmed_Medicaid_Managed</th>\n",
       "    </tr>\n",
       "  </thead>\n",
       "  <tbody>\n",
       "    <tr>\n",
       "      <th>0</th>\n",
       "      <td>OUTPATIENT</td>\n",
       "      <td>DOWNSTATE</td>\n",
       "      <td>ADULT</td>\n",
       "      <td>MALE</td>\n",
       "      <td>UNKNOWN</td>\n",
       "      <td>NON-VETERAN/UNKNOWN</td>\n",
       "      <td>Hispanic</td>\n",
       "      <td>NO</td>\n",
       "      <td>MENTAL ILLNESS</td>\n",
       "      <td>NO DISORDER</td>\n",
       "      <td>...</td>\n",
       "      <td>COHABITANTS</td>\n",
       "      <td>EMPLOYED</td>\n",
       "      <td>YES</td>\n",
       "      <td>No/Unknown</td>\n",
       "      <td>Educated</td>\n",
       "      <td>False</td>\n",
       "      <td>Yes</td>\n",
       "      <td>Yes</td>\n",
       "      <td>No</td>\n",
       "      <td>Yes</td>\n",
       "    </tr>\n",
       "    <tr>\n",
       "      <th>1</th>\n",
       "      <td>OUTPATIENT</td>\n",
       "      <td>NEW YORK CITY</td>\n",
       "      <td>ADULT</td>\n",
       "      <td>MALE</td>\n",
       "      <td>RELIGIOUS</td>\n",
       "      <td>NON-VETERAN/UNKNOWN</td>\n",
       "      <td>Majority US</td>\n",
       "      <td>NO</td>\n",
       "      <td>MENTAL ILLNESS</td>\n",
       "      <td>NO DISORDER</td>\n",
       "      <td>...</td>\n",
       "      <td>LIVES ALONE</td>\n",
       "      <td>EMPLOYED</td>\n",
       "      <td>YES</td>\n",
       "      <td>No/Unknown</td>\n",
       "      <td>Educated</td>\n",
       "      <td>False</td>\n",
       "      <td>Yes</td>\n",
       "      <td>Yes</td>\n",
       "      <td>No</td>\n",
       "      <td>Yes</td>\n",
       "    </tr>\n",
       "    <tr>\n",
       "      <th>2</th>\n",
       "      <td>OUTPATIENT</td>\n",
       "      <td>DOWNSTATE</td>\n",
       "      <td>ADULT</td>\n",
       "      <td>MALE</td>\n",
       "      <td>RELIGIOUS</td>\n",
       "      <td>NON-VETERAN/UNKNOWN</td>\n",
       "      <td>Majority US</td>\n",
       "      <td>YES</td>\n",
       "      <td>NOT MI/DEVELOPMENT/ORGANIC/SUBSTANCEADDICTIVE/...</td>\n",
       "      <td>ALCOHOL/DRUG DISORDER</td>\n",
       "      <td>...</td>\n",
       "      <td>COHABITANTS</td>\n",
       "      <td>EMPLOYED</td>\n",
       "      <td>YES</td>\n",
       "      <td>No/Unknown</td>\n",
       "      <td>Educated</td>\n",
       "      <td>False</td>\n",
       "      <td>Yes</td>\n",
       "      <td>Yes</td>\n",
       "      <td>No</td>\n",
       "      <td>Yes</td>\n",
       "    </tr>\n",
       "    <tr>\n",
       "      <th>3</th>\n",
       "      <td>COMMUNITY/SUPPORTIVE</td>\n",
       "      <td>NEW YORK CITY</td>\n",
       "      <td>ADULT</td>\n",
       "      <td>MALE</td>\n",
       "      <td>UNKNOWN</td>\n",
       "      <td>NON-VETERAN/UNKNOWN</td>\n",
       "      <td>Unknown</td>\n",
       "      <td>YES</td>\n",
       "      <td>NOT MI/DEVELOPMENT/ORGANIC/SUBSTANCEADDICTIVE/...</td>\n",
       "      <td>ALCOHOL/DRUG DISORDER</td>\n",
       "      <td>...</td>\n",
       "      <td>NOT APPLICABLE/UNKOWN</td>\n",
       "      <td>EMPLOYED</td>\n",
       "      <td>YES</td>\n",
       "      <td>Receiving Cash Assistance</td>\n",
       "      <td>Educated</td>\n",
       "      <td>False</td>\n",
       "      <td>Yes</td>\n",
       "      <td>Yes</td>\n",
       "      <td>No</td>\n",
       "      <td>No</td>\n",
       "    </tr>\n",
       "    <tr>\n",
       "      <th>4</th>\n",
       "      <td>OUTPATIENT</td>\n",
       "      <td>UPSTATE</td>\n",
       "      <td>ADULT</td>\n",
       "      <td>FEMALE</td>\n",
       "      <td>SPIRITUAL/NON-RELIGIOUS</td>\n",
       "      <td>NON-VETERAN/UNKNOWN</td>\n",
       "      <td>Majority US</td>\n",
       "      <td>YES</td>\n",
       "      <td>MENTAL ILLNESS</td>\n",
       "      <td>ALCOHOL/DRUG DISORDER</td>\n",
       "      <td>...</td>\n",
       "      <td>COHABITANTS</td>\n",
       "      <td>EMPLOYED</td>\n",
       "      <td>YES</td>\n",
       "      <td>Receiving Cash Assistance</td>\n",
       "      <td>Educated</td>\n",
       "      <td>False</td>\n",
       "      <td>Yes</td>\n",
       "      <td>Yes</td>\n",
       "      <td>No</td>\n",
       "      <td>Yes</td>\n",
       "    </tr>\n",
       "  </tbody>\n",
       "</table>\n",
       "<p>5 rows × 30 columns</p>\n",
       "</div>"
      ],
      "text/plain": [
       "       Program Category  Region Served Age Group     Sex  \\\n",
       "0            OUTPATIENT      DOWNSTATE     ADULT    MALE   \n",
       "1            OUTPATIENT  NEW YORK CITY     ADULT    MALE   \n",
       "2            OUTPATIENT      DOWNSTATE     ADULT    MALE   \n",
       "3  COMMUNITY/SUPPORTIVE  NEW YORK CITY     ADULT    MALE   \n",
       "4            OUTPATIENT        UPSTATE     ADULT  FEMALE   \n",
       "\n",
       "      Religious Preference       Veteran Status Cultural Group Smokes  \\\n",
       "0                  UNKNOWN  NON-VETERAN/UNKNOWN       Hispanic     NO   \n",
       "1                RELIGIOUS  NON-VETERAN/UNKNOWN    Majority US     NO   \n",
       "2                RELIGIOUS  NON-VETERAN/UNKNOWN    Majority US    YES   \n",
       "3                  UNKNOWN  NON-VETERAN/UNKNOWN        Unknown    YES   \n",
       "4  SPIRITUAL/NON-RELIGIOUS  NON-VETERAN/UNKNOWN    Majority US    YES   \n",
       "\n",
       "                                           Diagnosis         Disorder Group  \\\n",
       "0                                     MENTAL ILLNESS            NO DISORDER   \n",
       "1                                     MENTAL ILLNESS            NO DISORDER   \n",
       "2  NOT MI/DEVELOPMENT/ORGANIC/SUBSTANCEADDICTIVE/...  ALCOHOL/DRUG DISORDER   \n",
       "3  NOT MI/DEVELOPMENT/ORGANIC/SUBSTANCEADDICTIVE/...  ALCOHOL/DRUG DISORDER   \n",
       "4                                     MENTAL ILLNESS  ALCOHOL/DRUG DISORDER   \n",
       "\n",
       "   ...  Household Composition Employment Status Mental Illness  \\\n",
       "0  ...            COHABITANTS          EMPLOYED            YES   \n",
       "1  ...            LIVES ALONE          EMPLOYED            YES   \n",
       "2  ...            COHABITANTS          EMPLOYED            YES   \n",
       "3  ...  NOT APPLICABLE/UNKOWN          EMPLOYED            YES   \n",
       "4  ...            COHABITANTS          EMPLOYED            YES   \n",
       "\n",
       "   Cash Assistance Situation Education Group Unknown Insurance Coverage  \\\n",
       "0                 No/Unknown        Educated                      False   \n",
       "1                 No/Unknown        Educated                      False   \n",
       "2                 No/Unknown        Educated                      False   \n",
       "3  Receiving Cash Assistance        Educated                      False   \n",
       "4  Receiving Cash Assistance        Educated                      False   \n",
       "\n",
       "  Insured_or_Not Has_Public_Insurance Has_Private_or_Other_Insurance  \\\n",
       "0            Yes                  Yes                             No   \n",
       "1            Yes                  Yes                             No   \n",
       "2            Yes                  Yes                             No   \n",
       "3            Yes                  Yes                             No   \n",
       "4            Yes                  Yes                             No   \n",
       "\n",
       "  Confirmed_Medicaid_Managed  \n",
       "0                        Yes  \n",
       "1                        Yes  \n",
       "2                        Yes  \n",
       "3                         No  \n",
       "4                        Yes  \n",
       "\n",
       "[5 rows x 30 columns]"
      ]
     },
     "execution_count": 5,
     "metadata": {},
     "output_type": "execute_result"
    }
   ],
   "source": [
    "#final dataset without the biais column\n",
    "data_b.head()"
   ]
  },
  {
   "cell_type": "markdown",
   "id": "d506da53",
   "metadata": {},
   "source": [
    "# Data Processing"
   ]
  },
  {
   "cell_type": "markdown",
   "id": "daeec106",
   "metadata": {},
   "source": [
    "### Vector Encoding (One Hot Encoding)"
   ]
  },
  {
   "cell_type": "code",
   "execution_count": 6,
   "id": "17f54e29",
   "metadata": {},
   "outputs": [],
   "source": [
    "# function that transform columns with 2 categorical values to dummies [0,1]\n",
    "def encod(df, col):\n",
    "    df.loc[:,[col]] = pd.get_dummies(df[col], drop_first=True, dtype=int).values\n"
   ]
  },
  {
   "cell_type": "code",
   "execution_count": 7,
   "id": "3ecac9ba",
   "metadata": {},
   "outputs": [],
   "source": [
    "def encod(df, col):\n",
    "    dummy_col = pd.get_dummies(df[col], drop_first=True, dtype=int)\n",
    "    df.drop(columns=[col], inplace=True)\n",
    "    df[col] = dummy_col.iloc[:, 0].astype(int)  # Add dummy column back with same name\n"
   ]
  },
  {
   "cell_type": "code",
   "execution_count": 8,
   "id": "e46261dd",
   "metadata": {},
   "outputs": [],
   "source": [
    "columns = ['Veteran Status', 'Chronical diseases', 'Otherchron_group','Mental Illness','Cash Assistance Situation',\n",
    "             'Unknown Insurance Coverage', 'Insured_or_Not', 'Has_Public_Insurance',\n",
    "             'Has_Private_or_Other_Insurance', 'Confirmed_Medicaid_Managed'\n",
    "       ]"
   ]
  },
  {
   "cell_type": "code",
   "execution_count": 9,
   "id": "ebad4307",
   "metadata": {},
   "outputs": [],
   "source": [
    "for col in columns:\n",
    "    encod(data, col)"
   ]
  },
  {
   "cell_type": "code",
   "execution_count": 10,
   "id": "edeac8ef",
   "metadata": {},
   "outputs": [
    {
     "data": {
      "text/html": [
       "<div>\n",
       "<style scoped>\n",
       "    .dataframe tbody tr th:only-of-type {\n",
       "        vertical-align: middle;\n",
       "    }\n",
       "\n",
       "    .dataframe tbody tr th {\n",
       "        vertical-align: top;\n",
       "    }\n",
       "\n",
       "    .dataframe thead th {\n",
       "        text-align: right;\n",
       "    }\n",
       "</style>\n",
       "<table border=\"1\" class=\"dataframe\">\n",
       "  <thead>\n",
       "    <tr style=\"text-align: right;\">\n",
       "      <th></th>\n",
       "      <th>Program Category</th>\n",
       "      <th>Region Served</th>\n",
       "      <th>Age Group</th>\n",
       "      <th>Sex</th>\n",
       "      <th>Religious Preference</th>\n",
       "      <th>Cultural Group</th>\n",
       "      <th>Serious Mental Illness</th>\n",
       "      <th>Smokes</th>\n",
       "      <th>Diagnosis</th>\n",
       "      <th>Disorder Group</th>\n",
       "      <th>...</th>\n",
       "      <th>Veteran Status</th>\n",
       "      <th>Chronical diseases</th>\n",
       "      <th>Otherchron_group</th>\n",
       "      <th>Mental Illness</th>\n",
       "      <th>Cash Assistance Situation</th>\n",
       "      <th>Unknown Insurance Coverage</th>\n",
       "      <th>Insured_or_Not</th>\n",
       "      <th>Has_Public_Insurance</th>\n",
       "      <th>Has_Private_or_Other_Insurance</th>\n",
       "      <th>Confirmed_Medicaid_Managed</th>\n",
       "    </tr>\n",
       "  </thead>\n",
       "  <tbody>\n",
       "    <tr>\n",
       "      <th>0</th>\n",
       "      <td>OUTPATIENT</td>\n",
       "      <td>DOWNSTATE</td>\n",
       "      <td>ADULT</td>\n",
       "      <td>MALE</td>\n",
       "      <td>UNKNOWN</td>\n",
       "      <td>Hispanic</td>\n",
       "      <td>YES</td>\n",
       "      <td>NO</td>\n",
       "      <td>MENTAL ILLNESS</td>\n",
       "      <td>NO DISORDER</td>\n",
       "      <td>...</td>\n",
       "      <td>0</td>\n",
       "      <td>1</td>\n",
       "      <td>0</td>\n",
       "      <td>1</td>\n",
       "      <td>0</td>\n",
       "      <td>0</td>\n",
       "      <td>1</td>\n",
       "      <td>1</td>\n",
       "      <td>0</td>\n",
       "      <td>1</td>\n",
       "    </tr>\n",
       "    <tr>\n",
       "      <th>1</th>\n",
       "      <td>OUTPATIENT</td>\n",
       "      <td>NEW YORK CITY</td>\n",
       "      <td>ADULT</td>\n",
       "      <td>MALE</td>\n",
       "      <td>RELIGIOUS</td>\n",
       "      <td>Majority US</td>\n",
       "      <td>YES</td>\n",
       "      <td>NO</td>\n",
       "      <td>MENTAL ILLNESS</td>\n",
       "      <td>NO DISORDER</td>\n",
       "      <td>...</td>\n",
       "      <td>0</td>\n",
       "      <td>1</td>\n",
       "      <td>0</td>\n",
       "      <td>1</td>\n",
       "      <td>0</td>\n",
       "      <td>0</td>\n",
       "      <td>1</td>\n",
       "      <td>1</td>\n",
       "      <td>0</td>\n",
       "      <td>1</td>\n",
       "    </tr>\n",
       "    <tr>\n",
       "      <th>2</th>\n",
       "      <td>OUTPATIENT</td>\n",
       "      <td>DOWNSTATE</td>\n",
       "      <td>ADULT</td>\n",
       "      <td>MALE</td>\n",
       "      <td>RELIGIOUS</td>\n",
       "      <td>Majority US</td>\n",
       "      <td>YES</td>\n",
       "      <td>YES</td>\n",
       "      <td>NOT MI/DEVELOPMENT/ORGANIC/SUBSTANCEADDICTIVE/...</td>\n",
       "      <td>ALCOHOL/DRUG DISORDER</td>\n",
       "      <td>...</td>\n",
       "      <td>0</td>\n",
       "      <td>1</td>\n",
       "      <td>0</td>\n",
       "      <td>1</td>\n",
       "      <td>0</td>\n",
       "      <td>0</td>\n",
       "      <td>1</td>\n",
       "      <td>1</td>\n",
       "      <td>0</td>\n",
       "      <td>1</td>\n",
       "    </tr>\n",
       "    <tr>\n",
       "      <th>3</th>\n",
       "      <td>COMMUNITY/SUPPORTIVE</td>\n",
       "      <td>NEW YORK CITY</td>\n",
       "      <td>ADULT</td>\n",
       "      <td>MALE</td>\n",
       "      <td>UNKNOWN</td>\n",
       "      <td>Unknown</td>\n",
       "      <td>YES</td>\n",
       "      <td>YES</td>\n",
       "      <td>NOT MI/DEVELOPMENT/ORGANIC/SUBSTANCEADDICTIVE/...</td>\n",
       "      <td>ALCOHOL/DRUG DISORDER</td>\n",
       "      <td>...</td>\n",
       "      <td>0</td>\n",
       "      <td>1</td>\n",
       "      <td>0</td>\n",
       "      <td>1</td>\n",
       "      <td>1</td>\n",
       "      <td>0</td>\n",
       "      <td>1</td>\n",
       "      <td>1</td>\n",
       "      <td>0</td>\n",
       "      <td>0</td>\n",
       "    </tr>\n",
       "    <tr>\n",
       "      <th>4</th>\n",
       "      <td>OUTPATIENT</td>\n",
       "      <td>UPSTATE</td>\n",
       "      <td>ADULT</td>\n",
       "      <td>FEMALE</td>\n",
       "      <td>SPIRITUAL/NON-RELIGIOUS</td>\n",
       "      <td>Majority US</td>\n",
       "      <td>YES</td>\n",
       "      <td>YES</td>\n",
       "      <td>MENTAL ILLNESS</td>\n",
       "      <td>ALCOHOL/DRUG DISORDER</td>\n",
       "      <td>...</td>\n",
       "      <td>0</td>\n",
       "      <td>0</td>\n",
       "      <td>0</td>\n",
       "      <td>1</td>\n",
       "      <td>1</td>\n",
       "      <td>0</td>\n",
       "      <td>1</td>\n",
       "      <td>1</td>\n",
       "      <td>0</td>\n",
       "      <td>1</td>\n",
       "    </tr>\n",
       "  </tbody>\n",
       "</table>\n",
       "<p>5 rows × 31 columns</p>\n",
       "</div>"
      ],
      "text/plain": [
       "       Program Category  Region Served Age Group     Sex  \\\n",
       "0            OUTPATIENT      DOWNSTATE     ADULT    MALE   \n",
       "1            OUTPATIENT  NEW YORK CITY     ADULT    MALE   \n",
       "2            OUTPATIENT      DOWNSTATE     ADULT    MALE   \n",
       "3  COMMUNITY/SUPPORTIVE  NEW YORK CITY     ADULT    MALE   \n",
       "4            OUTPATIENT        UPSTATE     ADULT  FEMALE   \n",
       "\n",
       "      Religious Preference Cultural Group Serious Mental Illness Smokes  \\\n",
       "0                  UNKNOWN       Hispanic                    YES     NO   \n",
       "1                RELIGIOUS    Majority US                    YES     NO   \n",
       "2                RELIGIOUS    Majority US                    YES    YES   \n",
       "3                  UNKNOWN        Unknown                    YES    YES   \n",
       "4  SPIRITUAL/NON-RELIGIOUS    Majority US                    YES    YES   \n",
       "\n",
       "                                           Diagnosis         Disorder Group  \\\n",
       "0                                     MENTAL ILLNESS            NO DISORDER   \n",
       "1                                     MENTAL ILLNESS            NO DISORDER   \n",
       "2  NOT MI/DEVELOPMENT/ORGANIC/SUBSTANCEADDICTIVE/...  ALCOHOL/DRUG DISORDER   \n",
       "3  NOT MI/DEVELOPMENT/ORGANIC/SUBSTANCEADDICTIVE/...  ALCOHOL/DRUG DISORDER   \n",
       "4                                     MENTAL ILLNESS  ALCOHOL/DRUG DISORDER   \n",
       "\n",
       "   ... Veteran Status Chronical diseases Otherchron_group Mental Illness  \\\n",
       "0  ...              0                  1                0              1   \n",
       "1  ...              0                  1                0              1   \n",
       "2  ...              0                  1                0              1   \n",
       "3  ...              0                  1                0              1   \n",
       "4  ...              0                  0                0              1   \n",
       "\n",
       "  Cash Assistance Situation Unknown Insurance Coverage Insured_or_Not  \\\n",
       "0                         0                          0              1   \n",
       "1                         0                          0              1   \n",
       "2                         0                          0              1   \n",
       "3                         1                          0              1   \n",
       "4                         1                          0              1   \n",
       "\n",
       "  Has_Public_Insurance Has_Private_or_Other_Insurance  \\\n",
       "0                    1                              0   \n",
       "1                    1                              0   \n",
       "2                    1                              0   \n",
       "3                    1                              0   \n",
       "4                    1                              0   \n",
       "\n",
       "  Confirmed_Medicaid_Managed  \n",
       "0                          1  \n",
       "1                          1  \n",
       "2                          1  \n",
       "3                          0  \n",
       "4                          1  \n",
       "\n",
       "[5 rows x 31 columns]"
      ]
     },
     "execution_count": 10,
     "metadata": {},
     "output_type": "execute_result"
    }
   ],
   "source": [
    "data_encoded = data.copy()\n",
    "data_encoded.head()"
   ]
  },
  {
   "cell_type": "code",
   "execution_count": 11,
   "id": "e8e12f17",
   "metadata": {},
   "outputs": [],
   "source": [
    "#Encode a column with 3 or more categories using one-hot encoding.\n",
    "#Drops the original column.\n",
    "#Adds new dummy columns: col_value1, col_value2, etc.\n",
    "\n",
    "def encode_multiclass_column(df, col, drop_first=True):\n",
    "    dummies = pd.get_dummies(df[col], prefix=col, drop_first=drop_first, dtype=int)\n",
    "    df.drop(columns=[col], inplace=True)\n",
    "    df[dummies.columns] = dummies\n"
   ]
  },
  {
   "cell_type": "code",
   "execution_count": 12,
   "id": "d2eb1abe",
   "metadata": {},
   "outputs": [],
   "source": [
    "for column in data_encoded.columns:\n",
    "    if column not in columns:\n",
    "        encode_multiclass_column(data_encoded, column)"
   ]
  },
  {
   "cell_type": "code",
   "execution_count": 13,
   "id": "e7c01648",
   "metadata": {},
   "outputs": [
    {
     "data": {
      "text/html": [
       "<div>\n",
       "<style scoped>\n",
       "    .dataframe tbody tr th:only-of-type {\n",
       "        vertical-align: middle;\n",
       "    }\n",
       "\n",
       "    .dataframe tbody tr th {\n",
       "        vertical-align: top;\n",
       "    }\n",
       "\n",
       "    .dataframe thead th {\n",
       "        text-align: right;\n",
       "    }\n",
       "</style>\n",
       "<table border=\"1\" class=\"dataframe\">\n",
       "  <thead>\n",
       "    <tr style=\"text-align: right;\">\n",
       "      <th></th>\n",
       "      <th>Veteran Status</th>\n",
       "      <th>Chronical diseases</th>\n",
       "      <th>Otherchron_group</th>\n",
       "      <th>Mental Illness</th>\n",
       "      <th>Cash Assistance Situation</th>\n",
       "      <th>Unknown Insurance Coverage</th>\n",
       "      <th>Insured_or_Not</th>\n",
       "      <th>Has_Public_Insurance</th>\n",
       "      <th>Has_Private_or_Other_Insurance</th>\n",
       "      <th>Confirmed_Medicaid_Managed</th>\n",
       "      <th>...</th>\n",
       "      <th>Heartchronic_UNKNOWN</th>\n",
       "      <th>Heartchronic_YES, HEART CHRONIC ILLNESS</th>\n",
       "      <th>Brainchronic_UNKNOWN</th>\n",
       "      <th>Brainchronic_YES, BRAIN CHRONIC ILLNESS</th>\n",
       "      <th>Household Composition_LIVES ALONE</th>\n",
       "      <th>Household Composition_NOT APPLICABLE/UNKOWN</th>\n",
       "      <th>Employment Status_NOT IN LABOR FORCE</th>\n",
       "      <th>Employment Status_UNEMPLOYED/UNKNOW</th>\n",
       "      <th>Education Group_Low Educated</th>\n",
       "      <th>Education Group_Others/Unknown</th>\n",
       "    </tr>\n",
       "  </thead>\n",
       "  <tbody>\n",
       "    <tr>\n",
       "      <th>0</th>\n",
       "      <td>0</td>\n",
       "      <td>1</td>\n",
       "      <td>0</td>\n",
       "      <td>1</td>\n",
       "      <td>0</td>\n",
       "      <td>0</td>\n",
       "      <td>1</td>\n",
       "      <td>1</td>\n",
       "      <td>0</td>\n",
       "      <td>1</td>\n",
       "      <td>...</td>\n",
       "      <td>0</td>\n",
       "      <td>0</td>\n",
       "      <td>0</td>\n",
       "      <td>0</td>\n",
       "      <td>0</td>\n",
       "      <td>0</td>\n",
       "      <td>0</td>\n",
       "      <td>0</td>\n",
       "      <td>0</td>\n",
       "      <td>0</td>\n",
       "    </tr>\n",
       "    <tr>\n",
       "      <th>1</th>\n",
       "      <td>0</td>\n",
       "      <td>1</td>\n",
       "      <td>0</td>\n",
       "      <td>1</td>\n",
       "      <td>0</td>\n",
       "      <td>0</td>\n",
       "      <td>1</td>\n",
       "      <td>1</td>\n",
       "      <td>0</td>\n",
       "      <td>1</td>\n",
       "      <td>...</td>\n",
       "      <td>0</td>\n",
       "      <td>0</td>\n",
       "      <td>0</td>\n",
       "      <td>0</td>\n",
       "      <td>1</td>\n",
       "      <td>0</td>\n",
       "      <td>0</td>\n",
       "      <td>0</td>\n",
       "      <td>0</td>\n",
       "      <td>0</td>\n",
       "    </tr>\n",
       "    <tr>\n",
       "      <th>2</th>\n",
       "      <td>0</td>\n",
       "      <td>1</td>\n",
       "      <td>0</td>\n",
       "      <td>1</td>\n",
       "      <td>0</td>\n",
       "      <td>0</td>\n",
       "      <td>1</td>\n",
       "      <td>1</td>\n",
       "      <td>0</td>\n",
       "      <td>1</td>\n",
       "      <td>...</td>\n",
       "      <td>0</td>\n",
       "      <td>0</td>\n",
       "      <td>0</td>\n",
       "      <td>0</td>\n",
       "      <td>0</td>\n",
       "      <td>0</td>\n",
       "      <td>0</td>\n",
       "      <td>0</td>\n",
       "      <td>0</td>\n",
       "      <td>0</td>\n",
       "    </tr>\n",
       "    <tr>\n",
       "      <th>3</th>\n",
       "      <td>0</td>\n",
       "      <td>1</td>\n",
       "      <td>0</td>\n",
       "      <td>1</td>\n",
       "      <td>1</td>\n",
       "      <td>0</td>\n",
       "      <td>1</td>\n",
       "      <td>1</td>\n",
       "      <td>0</td>\n",
       "      <td>0</td>\n",
       "      <td>...</td>\n",
       "      <td>0</td>\n",
       "      <td>0</td>\n",
       "      <td>0</td>\n",
       "      <td>0</td>\n",
       "      <td>0</td>\n",
       "      <td>1</td>\n",
       "      <td>0</td>\n",
       "      <td>0</td>\n",
       "      <td>0</td>\n",
       "      <td>0</td>\n",
       "    </tr>\n",
       "    <tr>\n",
       "      <th>4</th>\n",
       "      <td>0</td>\n",
       "      <td>0</td>\n",
       "      <td>0</td>\n",
       "      <td>1</td>\n",
       "      <td>1</td>\n",
       "      <td>0</td>\n",
       "      <td>1</td>\n",
       "      <td>1</td>\n",
       "      <td>0</td>\n",
       "      <td>1</td>\n",
       "      <td>...</td>\n",
       "      <td>0</td>\n",
       "      <td>0</td>\n",
       "      <td>0</td>\n",
       "      <td>0</td>\n",
       "      <td>0</td>\n",
       "      <td>0</td>\n",
       "      <td>0</td>\n",
       "      <td>0</td>\n",
       "      <td>0</td>\n",
       "      <td>0</td>\n",
       "    </tr>\n",
       "  </tbody>\n",
       "</table>\n",
       "<p>5 rows × 54 columns</p>\n",
       "</div>"
      ],
      "text/plain": [
       "   Veteran Status  Chronical diseases  Otherchron_group  Mental Illness  \\\n",
       "0               0                   1                 0               1   \n",
       "1               0                   1                 0               1   \n",
       "2               0                   1                 0               1   \n",
       "3               0                   1                 0               1   \n",
       "4               0                   0                 0               1   \n",
       "\n",
       "   Cash Assistance Situation  Unknown Insurance Coverage  Insured_or_Not  \\\n",
       "0                          0                           0               1   \n",
       "1                          0                           0               1   \n",
       "2                          0                           0               1   \n",
       "3                          1                           0               1   \n",
       "4                          1                           0               1   \n",
       "\n",
       "   Has_Public_Insurance  Has_Private_or_Other_Insurance  \\\n",
       "0                     1                               0   \n",
       "1                     1                               0   \n",
       "2                     1                               0   \n",
       "3                     1                               0   \n",
       "4                     1                               0   \n",
       "\n",
       "   Confirmed_Medicaid_Managed  ...  Heartchronic_UNKNOWN  \\\n",
       "0                           1  ...                     0   \n",
       "1                           1  ...                     0   \n",
       "2                           1  ...                     0   \n",
       "3                           0  ...                     0   \n",
       "4                           1  ...                     0   \n",
       "\n",
       "   Heartchronic_YES, HEART CHRONIC ILLNESS  Brainchronic_UNKNOWN  \\\n",
       "0                                        0                     0   \n",
       "1                                        0                     0   \n",
       "2                                        0                     0   \n",
       "3                                        0                     0   \n",
       "4                                        0                     0   \n",
       "\n",
       "   Brainchronic_YES, BRAIN CHRONIC ILLNESS  Household Composition_LIVES ALONE  \\\n",
       "0                                        0                                  0   \n",
       "1                                        0                                  1   \n",
       "2                                        0                                  0   \n",
       "3                                        0                                  0   \n",
       "4                                        0                                  0   \n",
       "\n",
       "   Household Composition_NOT APPLICABLE/UNKOWN  \\\n",
       "0                                            0   \n",
       "1                                            0   \n",
       "2                                            0   \n",
       "3                                            1   \n",
       "4                                            0   \n",
       "\n",
       "   Employment Status_NOT IN LABOR FORCE  Employment Status_UNEMPLOYED/UNKNOW  \\\n",
       "0                                     0                                    0   \n",
       "1                                     0                                    0   \n",
       "2                                     0                                    0   \n",
       "3                                     0                                    0   \n",
       "4                                     0                                    0   \n",
       "\n",
       "   Education Group_Low Educated  Education Group_Others/Unknown  \n",
       "0                             0                               0  \n",
       "1                             0                               0  \n",
       "2                             0                               0  \n",
       "3                             0                               0  \n",
       "4                             0                               0  \n",
       "\n",
       "[5 rows x 54 columns]"
      ]
     },
     "execution_count": 13,
     "metadata": {},
     "output_type": "execute_result"
    }
   ],
   "source": [
    "data_encoded.head()"
   ]
  },
  {
   "cell_type": "code",
   "execution_count": 14,
   "id": "3d9fdc9f",
   "metadata": {},
   "outputs": [
    {
     "data": {
      "text/plain": [
       "Index(['Veteran Status', 'Chronical diseases', 'Otherchron_group',\n",
       "       'Mental Illness', 'Cash Assistance Situation',\n",
       "       'Unknown Insurance Coverage', 'Insured_or_Not', 'Has_Public_Insurance',\n",
       "       'Has_Private_or_Other_Insurance', 'Confirmed_Medicaid_Managed',\n",
       "       'Program Category_CRISIS/INPATIENT', 'Program Category_OUTPATIENT',\n",
       "       'Region Served_NEW YORK CITY', 'Region Served_UPSTATE',\n",
       "       'Age Group_CHILD', 'Age Group_UNKNOWN', 'Sex_MALE', 'Sex_UNKNOWN',\n",
       "       'Religious Preference_SPIRITUAL/NON-RELIGIOUS',\n",
       "       'Religious Preference_UNKNOWN', 'Cultural Group_Immigrant/Other Lang',\n",
       "       'Cultural Group_Majority US', 'Cultural Group_Unknown',\n",
       "       'Serious Mental Illness_UNKNOWN', 'Serious Mental Illness_YES',\n",
       "       'Smokes_UNKNOWN', 'Smokes_YES', 'Diagnosis_NO ADDITIONAL DIAGNOSIS',\n",
       "       'Diagnosis_NOT MI/DEVELOPMENT/ORGANIC/SUBSTANCEADDICTIVE/DISORDER',\n",
       "       'Diagnosis_UNKNOWN', 'Disorder Group_NO DISORDER',\n",
       "       'Disorder Group_UNKNOWN', 'Mental disability_NO DISABILITY',\n",
       "       'Mental disability_UNKNOWN', 'Impairment Group_PHYSICAL IMPAIRMENT',\n",
       "       'Impairment Group_UNKNOWN', 'Users Canabis_UNKNOWN',\n",
       "       'Users Canabis_Use Cannabis Medical/recreational',\n",
       "       'Smoking treatment_Received Smoking Medication/counseling',\n",
       "       'Smoking treatment_UNKNOWN',\n",
       "       'Service_drug_alcohol_opiod_SERVICE ALCOHOL DRUG USE',\n",
       "       'Service_drug_alcohol_opiod_UNKNOWN', 'Other_testchronic_group_UNKNOWN',\n",
       "       'Other_testchronic_group_YES, HYPERLIPIDEMIA/HIGHBLOODPRESSURE/OBESITY',\n",
       "       'Heartchronic_UNKNOWN', 'Heartchronic_YES, HEART CHRONIC ILLNESS',\n",
       "       'Brainchronic_UNKNOWN', 'Brainchronic_YES, BRAIN CHRONIC ILLNESS',\n",
       "       'Household Composition_LIVES ALONE',\n",
       "       'Household Composition_NOT APPLICABLE/UNKOWN',\n",
       "       'Employment Status_NOT IN LABOR FORCE',\n",
       "       'Employment Status_UNEMPLOYED/UNKNOW', 'Education Group_Low Educated',\n",
       "       'Education Group_Others/Unknown'],\n",
       "      dtype='object')"
      ]
     },
     "execution_count": 14,
     "metadata": {},
     "output_type": "execute_result"
    }
   ],
   "source": [
    "data_encoded.columns"
   ]
  },
  {
   "cell_type": "code",
   "execution_count": 15,
   "id": "4a91eb5a",
   "metadata": {},
   "outputs": [
    {
     "data": {
      "text/plain": [
       "54"
      ]
     },
     "execution_count": 15,
     "metadata": {},
     "output_type": "execute_result"
    }
   ],
   "source": [
    "data_encoded.shape[1]"
   ]
  },
  {
   "cell_type": "markdown",
   "id": "79c5e7d6",
   "metadata": {},
   "source": [
    "# Split the data into train and test set"
   ]
  },
  {
   "cell_type": "code",
   "execution_count": 16,
   "id": "da0a73ea",
   "metadata": {},
   "outputs": [],
   "source": [
    "df_train, df_test = train_test_split(data_encoded,test_size = 0.2)"
   ]
  },
  {
   "cell_type": "code",
   "execution_count": 17,
   "id": "5aa6828b",
   "metadata": {},
   "outputs": [
    {
     "data": {
      "text/plain": [
       "(194117, 155293, 38824)"
      ]
     },
     "execution_count": 17,
     "metadata": {},
     "output_type": "execute_result"
    }
   ],
   "source": [
    "len(data_encoded), len(df_train), len(df_test)"
   ]
  },
  {
   "cell_type": "code",
   "execution_count": 18,
   "id": "a6ab83b7",
   "metadata": {},
   "outputs": [],
   "source": [
    "# get the values of the columns for the training data\n",
    "X_train = df_train.drop(columns=\"Mental Illness\").values\n",
    "y_train = df_train[\"Mental Illness\"].values"
   ]
  },
  {
   "cell_type": "code",
   "execution_count": 19,
   "id": "b9aab54e",
   "metadata": {},
   "outputs": [],
   "source": [
    "# get the values of the columns for the test data\n",
    "X_test = df_test.drop(columns=\"Mental Illness\").values\n",
    "y_test = df_test[\"Mental Illness\"].values"
   ]
  },
  {
   "cell_type": "markdown",
   "id": "fccf6344",
   "metadata": {},
   "source": [
    "# Model Training"
   ]
  },
  {
   "cell_type": "code",
   "execution_count": 20,
   "id": "af7d9ac3",
   "metadata": {},
   "outputs": [
    {
     "name": "stdout",
     "output_type": "stream",
     "text": [
      "=== MLPClassifier Classification Report ===\n",
      "              precision    recall  f1-score   support\n",
      "\n",
      "           0       0.58      0.52      0.55      1121\n",
      "           1       0.99      0.99      0.99     37703\n",
      "\n",
      "    accuracy                           0.98     38824\n",
      "   macro avg       0.78      0.76      0.77     38824\n",
      "weighted avg       0.97      0.98      0.97     38824\n",
      "\n",
      "Accuracy: 0.9753\n"
     ]
    },
    {
     "data": {
      "image/png": "[encoded data removed]",
      "text/plain": [
       "<Figure size 640x480 with 2 Axes>"
      ]
     },
     "metadata": {},
     "output_type": "display_data"
    }
   ],
   "source": [
    "# === Import required libraries ===\n",
    "import pandas as pd\n",
    "from sklearn.neural_network import MLPClassifier\n",
    "from sklearn.metrics import classification_report, accuracy_score, confusion_matrix\n",
    "import seaborn as sns\n",
    "import matplotlib.pyplot as plt\n",
    "\n",
    "# === Load preprocessed data ===\n",
    "# Assume `data_encoded` is already prepared as per your steps\n",
    "\n",
    "# === Train-test split ===\n",
    "from sklearn.model_selection import train_test_split\n",
    "df_train, df_test = train_test_split(data_encoded, test_size=0.2, random_state=42)\n",
    "\n",
    "X_train = df_train.drop(columns=\"Mental Illness\").values\n",
    "y_train = df_train[\"Mental Illness\"].values\n",
    "X_test = df_test.drop(columns=\"Mental Illness\").values\n",
    "y_test = df_test[\"Mental Illness\"].values\n",
    "\n",
    "# === Train the MLPClassifier ===\n",
    "model = MLPClassifier(hidden_layer_sizes=(50,), max_iter=500, random_state=42)\n",
    "model.fit(X_train, y_train)\n",
    "\n",
    "# === Make predictions ===\n",
    "y_pred = model.predict(X_test)\n",
    "\n",
    "# === Evaluation metrics ===\n",
    "print(\"=== MLPClassifier Classification Report ===\")\n",
    "print(classification_report(y_test, y_pred))\n",
    "print(f\"Accuracy: {accuracy_score(y_test, y_pred):.4f}\")\n",
    "\n",
    "# === Confusion matrix (visualization) ===\n",
    "cm = confusion_matrix(y_test, y_pred)\n",
    "sns.heatmap(cm, annot=True, fmt='d', cmap='Blues')\n",
    "plt.title(\"Confusion Matrix\")\n",
    "plt.xlabel(\"Predicted\")\n",
    "plt.ylabel(\"Actual\")\n",
    "plt.show()\n"
   ]
  },
  {
   "cell_type": "code",
   "execution_count": 37,
   "id": "fd764e43",
   "metadata": {},
   "outputs": [
    {
     "data": {
      "text/html": [
       "<style>#sk-container-id-1 {color: black;}#sk-container-id-1 pre{padding: 0;}#sk-container-id-1 div.sk-toggleable {background-color: white;}#sk-container-id-1 label.sk-toggleable__label {cursor: pointer;display: block;width: 100%;margin-bottom: 0;padding: 0.3em;box-sizing: border-box;text-align: center;}#sk-container-id-1 label.sk-toggleable__label-arrow:before {content: \"▸\";float: left;margin-right: 0.25em;color: #696969;}#sk-container-id-1 label.sk-toggleable__label-arrow:hover:before {color: black;}#sk-container-id-1 div.sk-estimator:hover label.sk-toggleable__label-arrow:before {color: black;}#sk-container-id-1 div.sk-toggleable__content {max-height: 0;max-width: 0;overflow: hidden;text-align: left;background-color: #f0f8ff;}#sk-container-id-1 div.sk-toggleable__content pre {margin: 0.2em;color: black;border-radius: 0.25em;background-color: #f0f8ff;}#sk-container-id-1 input.sk-toggleable__control:checked~div.sk-toggleable__content {max-height: 200px;max-width: 100%;overflow: auto;}#sk-container-id-1 input.sk-toggleable__control:checked~label.sk-toggleable__label-arrow:before {content: \"▾\";}#sk-container-id-1 div.sk-estimator input.sk-toggleable__control:checked~label.sk-toggleable__label {background-color: #d4ebff;}#sk-container-id-1 div.sk-label input.sk-toggleable__control:checked~label.sk-toggleable__label {background-color: #d4ebff;}#sk-container-id-1 input.sk-hidden--visually {border: 0;clip: rect(1px 1px 1px 1px);clip: rect(1px, 1px, 1px, 1px);height: 1px;margin: -1px;overflow: hidden;padding: 0;position: absolute;width: 1px;}#sk-container-id-1 div.sk-estimator {font-family: monospace;background-color: #f0f8ff;border: 1px dotted black;border-radius: 0.25em;box-sizing: border-box;margin-bottom: 0.5em;}#sk-container-id-1 div.sk-estimator:hover {background-color: #d4ebff;}#sk-container-id-1 div.sk-parallel-item::after {content: \"\";width: 100%;border-bottom: 1px solid gray;flex-grow: 1;}#sk-container-id-1 div.sk-label:hover label.sk-toggleable__label {background-color: #d4ebff;}#sk-container-id-1 div.sk-serial::before {content: \"\";position: absolute;border-left: 1px solid gray;box-sizing: border-box;top: 0;bottom: 0;left: 50%;z-index: 0;}#sk-container-id-1 div.sk-serial {display: flex;flex-direction: column;align-items: center;background-color: white;padding-right: 0.2em;padding-left: 0.2em;position: relative;}#sk-container-id-1 div.sk-item {position: relative;z-index: 1;}#sk-container-id-1 div.sk-parallel {display: flex;align-items: stretch;justify-content: center;background-color: white;position: relative;}#sk-container-id-1 div.sk-item::before, #sk-container-id-1 div.sk-parallel-item::before {content: \"\";position: absolute;border-left: 1px solid gray;box-sizing: border-box;top: 0;bottom: 0;left: 50%;z-index: -1;}#sk-container-id-1 div.sk-parallel-item {display: flex;flex-direction: column;z-index: 1;position: relative;background-color: white;}#sk-container-id-1 div.sk-parallel-item:first-child::after {align-self: flex-end;width: 50%;}#sk-container-id-1 div.sk-parallel-item:last-child::after {align-self: flex-start;width: 50%;}#sk-container-id-1 div.sk-parallel-item:only-child::after {width: 0;}#sk-container-id-1 div.sk-dashed-wrapped {border: 1px dashed gray;margin: 0 0.4em 0.5em 0.4em;box-sizing: border-box;padding-bottom: 0.4em;background-color: white;}#sk-container-id-1 div.sk-label label {font-family: monospace;font-weight: bold;display: inline-block;line-height: 1.2em;}#sk-container-id-1 div.sk-label-container {text-align: center;}#sk-container-id-1 div.sk-container {/* jupyter's `normalize.less` sets `[hidden] { display: none; }` but bootstrap.min.css set `[hidden] { display: none !important; }` so we also need the `!important` here to be able to override the default hidden behavior on the sphinx rendered scikit-learn.org. See: https://github.com/scikit-learn/scikit-learn/issues/21755 */display: inline-block !important;position: relative;}#sk-container-id-1 div.sk-text-repr-fallback {display: none;}</style><div id=\"sk-container-id-1\" class=\"sk-top-container\"><div class=\"sk-text-repr-fallback\"><pre>MLPClassifier(hidden_layer_sizes=(50,), max_iter=500, random_state=42)</pre><b>In a Jupyter environment, please rerun this cell to show the HTML representation or trust the notebook. <br />On GitHub, the HTML representation is unable to render, please try loading this page with nbviewer.org.</b></div><div class=\"sk-container\" hidden><div class=\"sk-item\"><div class=\"sk-estimator sk-toggleable\"><input class=\"sk-toggleable__control sk-hidden--visually\" id=\"sk-estimator-id-1\" type=\"checkbox\" checked><label for=\"sk-estimator-id-1\" class=\"sk-toggleable__label sk-toggleable__label-arrow\">MLPClassifier</label><div class=\"sk-toggleable__content\"><pre>MLPClassifier(hidden_layer_sizes=(50,), max_iter=500, random_state=42)</pre></div></div></div></div></div>"
      ],
      "text/plain": [
       "MLPClassifier(hidden_layer_sizes=(50,), max_iter=500, random_state=42)"
      ]
     },
     "execution_count": 37,
     "metadata": {},
     "output_type": "execute_result"
    }
   ],
   "source": [
    "# here we train the model on the training data\n",
    "model.fit(X=X_train, y=y_train)"
   ]
  },
  {
   "cell_type": "markdown",
   "id": "3d8da4d7",
   "metadata": {},
   "source": [
    "# Model Testing"
   ]
  },
  {
   "cell_type": "code",
   "execution_count": 21,
   "id": "989f107b",
   "metadata": {},
   "outputs": [],
   "source": [
    "y_test_predicted = model.predict(X_test)"
   ]
  },
  {
   "cell_type": "code",
   "execution_count": 22,
   "id": "de3aff93",
   "metadata": {},
   "outputs": [
    {
     "data": {
      "text/plain": [
       "array([0, 1, 1, ..., 1, 1, 1])"
      ]
     },
     "execution_count": 22,
     "metadata": {},
     "output_type": "execute_result"
    }
   ],
   "source": [
    "y_test_predicted"
   ]
  },
  {
   "cell_type": "code",
   "execution_count": 23,
   "id": "a2122513",
   "metadata": {},
   "outputs": [
    {
     "data": {
      "text/plain": [
       "array([0, 1, 1, ..., 1, 1, 1])"
      ]
     },
     "execution_count": 23,
     "metadata": {},
     "output_type": "execute_result"
    }
   ],
   "source": [
    "y_test"
   ]
  },
  {
   "cell_type": "code",
   "execution_count": 24,
   "id": "977ba317",
   "metadata": {},
   "outputs": [
    {
     "data": {
      "text/plain": [
       "0.9753245415207088"
      ]
     },
     "execution_count": 24,
     "metadata": {},
     "output_type": "execute_result"
    }
   ],
   "source": [
    "(y_test_predicted == y_test).sum()/len(y_test)"
   ]
  },
  {
   "cell_type": "markdown",
   "id": "42957585",
   "metadata": {},
   "source": [
    "# Model Evaluation"
   ]
  },
  {
   "cell_type": "code",
   "execution_count": 25,
   "id": "bb53fc09",
   "metadata": {},
   "outputs": [],
   "source": [
    "from sklearn.metrics import confusion_matrix"
   ]
  },
  {
   "cell_type": "code",
   "execution_count": 26,
   "id": "18b8e316",
   "metadata": {},
   "outputs": [],
   "source": [
    "cf = pd.DataFrame(\n",
    "    columns=[\"y_test_0\",\"y_test_1\"],index=[\"y_pred_0\",\"y_pred_1\"]\n",
    ")"
   ]
  },
  {
   "cell_type": "code",
   "execution_count": 27,
   "id": "b7e062ab",
   "metadata": {},
   "outputs": [],
   "source": [
    "cf.loc[:,:] = confusion_matrix(y_true= y_test,y_pred= y_test_predicted)"
   ]
  },
  {
   "cell_type": "code",
   "execution_count": 28,
   "id": "f75bb4b7",
   "metadata": {},
   "outputs": [
    {
     "data": {
      "text/html": [
       "<div>\n",
       "<style scoped>\n",
       "    .dataframe tbody tr th:only-of-type {\n",
       "        vertical-align: middle;\n",
       "    }\n",
       "\n",
       "    .dataframe tbody tr th {\n",
       "        vertical-align: top;\n",
       "    }\n",
       "\n",
       "    .dataframe thead th {\n",
       "        text-align: right;\n",
       "    }\n",
       "</style>\n",
       "<table border=\"1\" class=\"dataframe\">\n",
       "  <thead>\n",
       "    <tr style=\"text-align: right;\">\n",
       "      <th></th>\n",
       "      <th>y_test_0</th>\n",
       "      <th>y_test_1</th>\n",
       "    </tr>\n",
       "  </thead>\n",
       "  <tbody>\n",
       "    <tr>\n",
       "      <th>y_pred_0</th>\n",
       "      <td>586</td>\n",
       "      <td>535</td>\n",
       "    </tr>\n",
       "    <tr>\n",
       "      <th>y_pred_1</th>\n",
       "      <td>423</td>\n",
       "      <td>37280</td>\n",
       "    </tr>\n",
       "  </tbody>\n",
       "</table>\n",
       "</div>"
      ],
      "text/plain": [
       "         y_test_0 y_test_1\n",
       "y_pred_0      586      535\n",
       "y_pred_1      423    37280"
      ]
     },
     "execution_count": 28,
     "metadata": {},
     "output_type": "execute_result"
    }
   ],
   "source": [
    "cf"
   ]
  },
  {
   "cell_type": "code",
   "execution_count": 29,
   "id": "f9cd861f",
   "metadata": {},
   "outputs": [
    {
     "data": {
      "text/html": [
       "<div>\n",
       "<style scoped>\n",
       "    .dataframe tbody tr th:only-of-type {\n",
       "        vertical-align: middle;\n",
       "    }\n",
       "\n",
       "    .dataframe tbody tr th {\n",
       "        vertical-align: top;\n",
       "    }\n",
       "\n",
       "    .dataframe thead th {\n",
       "        text-align: right;\n",
       "    }\n",
       "</style>\n",
       "<table border=\"1\" class=\"dataframe\">\n",
       "  <thead>\n",
       "    <tr style=\"text-align: right;\">\n",
       "      <th></th>\n",
       "      <th>y_test_0</th>\n",
       "      <th>y_test_1</th>\n",
       "    </tr>\n",
       "  </thead>\n",
       "  <tbody>\n",
       "    <tr>\n",
       "      <th>y_pred_0</th>\n",
       "      <td>0.015094</td>\n",
       "      <td>0.01378</td>\n",
       "    </tr>\n",
       "    <tr>\n",
       "      <th>y_pred_1</th>\n",
       "      <td>0.010895</td>\n",
       "      <td>0.960231</td>\n",
       "    </tr>\n",
       "  </tbody>\n",
       "</table>\n",
       "</div>"
      ],
      "text/plain": [
       "          y_test_0  y_test_1\n",
       "y_pred_0  0.015094   0.01378\n",
       "y_pred_1  0.010895  0.960231"
      ]
     },
     "execution_count": 29,
     "metadata": {},
     "output_type": "execute_result"
    }
   ],
   "source": [
    "cf/len(y_test)"
   ]
  },
  {
   "cell_type": "code",
   "execution_count": 30,
   "id": "ac7707ff",
   "metadata": {},
   "outputs": [],
   "source": [
    "from sklearn.metrics import recall_score, precision_score"
   ]
  },
  {
   "cell_type": "code",
   "execution_count": 31,
   "id": "aeab8273",
   "metadata": {},
   "outputs": [
    {
     "data": {
      "text/plain": [
       "0.9887807336286237"
      ]
     },
     "execution_count": 31,
     "metadata": {},
     "output_type": "execute_result"
    }
   ],
   "source": [
    "recall_score(y_true=y_test, y_pred=y_test_predicted)"
   ]
  },
  {
   "cell_type": "code",
   "execution_count": 36,
   "id": "0276e541",
   "metadata": {},
   "outputs": [],
   "source": [
    "# compute recall manually: TP/TP+FN\n",
    "#48/(48+16)"
   ]
  },
  {
   "cell_type": "code",
   "execution_count": 32,
   "id": "902f2c5b",
   "metadata": {},
   "outputs": [
    {
     "data": {
      "text/plain": [
       "0.9858521750628058"
      ]
     },
     "execution_count": 32,
     "metadata": {},
     "output_type": "execute_result"
    }
   ],
   "source": [
    "precision_score(y_true=y_test, y_pred=y_test_predicted)"
   ]
  },
  {
   "cell_type": "code",
   "execution_count": 33,
   "id": "80c63086",
   "metadata": {},
   "outputs": [],
   "source": [
    "# compute precision manually: TP/TP+FP\n",
    "#48/(48+16)"
   ]
  },
  {
   "cell_type": "code",
   "execution_count": 34,
   "id": "dadade21",
   "metadata": {},
   "outputs": [],
   "source": [
    "from sklearn.metrics import classification_report"
   ]
  },
  {
   "cell_type": "code",
   "execution_count": 35,
   "id": "a268978a",
   "metadata": {},
   "outputs": [],
   "source": [
    "report =classification_report(y_true=y_test, y_pred=y_test_predicted)"
   ]
  },
  {
   "cell_type": "code",
   "execution_count": 36,
   "id": "368bf721",
   "metadata": {},
   "outputs": [
    {
     "name": "stdout",
     "output_type": "stream",
     "text": [
      "              precision    recall  f1-score   support\n",
      "\n",
      "           0       0.58      0.52      0.55      1121\n",
      "           1       0.99      0.99      0.99     37703\n",
      "\n",
      "    accuracy                           0.98     38824\n",
      "   macro avg       0.78      0.76      0.77     38824\n",
      "weighted avg       0.97      0.98      0.97     38824\n",
      "\n"
     ]
    }
   ],
   "source": [
    "print(report)"
   ]
  },
  {
   "cell_type": "markdown",
   "id": "586e27f4",
   "metadata": {},
   "source": [
    "### Model Fine-Tuning: Hyperparameters enhancement"
   ]
  },
  {
   "cell_type": "code",
   "execution_count": null,
   "id": "455bd6f8",
   "metadata": {},
   "outputs": [],
   "source": []
  },
  {
   "cell_type": "markdown",
   "id": "3e326c61",
   "metadata": {},
   "source": [
    "### Model Evaluation 2"
   ]
  },
  {
   "cell_type": "code",
   "execution_count": null,
   "id": "9c3ea3da",
   "metadata": {},
   "outputs": [],
   "source": []
  },
  {
   "cell_type": "markdown",
   "id": "71774e06",
   "metadata": {},
   "source": [
    "# Save the Model"
   ]
  },
  {
   "cell_type": "code",
   "execution_count": 39,
   "id": "aae891e6",
   "metadata": {},
   "outputs": [],
   "source": [
    "# Saving path\n",
    "save_path = '../../Models/MLP_model.pkl'"
   ]
  },
  {
   "cell_type": "code",
   "execution_count": 40,
   "id": "a811bc7f",
   "metadata": {},
   "outputs": [],
   "source": [
    "# second method: using pickel (commonly used)\n",
    "import pickle\n"
   ]
  },
  {
   "cell_type": "code",
   "execution_count": 41,
   "id": "4d499224",
   "metadata": {},
   "outputs": [],
   "source": [
    "# Save the model\n",
    "with open(save_path, 'wb') as file:\n",
    "    pickle.dump(model, file)\n",
    "\n",
    "# To load it later:\n",
    "# with open('logistic_regression_model.pkl', 'rb') as file:\n",
    "#     loaded_model = pickle.load(file)"
   ]
  }
 ],
 "metadata": {
  "kernelspec": {
   "display_name": "base",
   "language": "python",
   "name": "python3"
  },
  "language_info": {
   "codemirror_mode": {
    "name": "ipython",
    "version": 3
   },
   "file_extension": ".py",
   "mimetype": "text/x-python",
   "name": "python",
   "nbconvert_exporter": "python",
   "pygments_lexer": "ipython3",
   "version": "3.11.5"
  }
 },
 "nbformat": 4,
 "nbformat_minor": 5
}
